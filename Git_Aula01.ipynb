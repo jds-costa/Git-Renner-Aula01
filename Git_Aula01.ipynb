{
  "nbformat": 4,
  "nbformat_minor": 0,
  "metadata": {
    "colab": {
      "name": "Git_Aula01.ipynb",
      "provenance": [],
      "authorship_tag": "ABX9TyNyh72lYU8eEpli9BAFLkYb",
      "include_colab_link": true
    },
    "kernelspec": {
      "name": "python3",
      "display_name": "Python 3"
    },
    "language_info": {
      "name": "python"
    }
  },
  "cells": [
    {
      "cell_type": "markdown",
      "metadata": {
        "id": "view-in-github",
        "colab_type": "text"
      },
      "source": [
        "<a href=\"https://colab.research.google.com/github/jds-costa/Git-Renner-Aula01/blob/main/Git_Aula01.ipynb\" target=\"_parent\"><img src=\"https://colab.research.google.com/assets/colab-badge.svg\" alt=\"Open In Colab\"/></a>"
      ]
    },
    {
      "cell_type": "code",
      "execution_count": 2,
      "metadata": {
        "colab": {
          "base_uri": "https://localhost:8080/"
        },
        "id": "GjnbOIXlsRUf",
        "outputId": "9363efce-c393-4247-dccd-fc5ca708e4fb"
      },
      "outputs": [
        {
          "output_type": "execute_result",
          "data": {
            "text/plain": [
              "[1, 2, 3, 4]"
            ]
          },
          "metadata": {},
          "execution_count": 2
        }
      ],
      "source": [
        "lista = [1,2,3,4]\n",
        "lista"
      ]
    },
    {
      "cell_type": "code",
      "source": [
        "lista.append(5)"
      ],
      "metadata": {
        "id": "ASYryp8isdlN"
      },
      "execution_count": 4,
      "outputs": []
    },
    {
      "cell_type": "code",
      "source": [
        "lista.reverse()\n",
        "lista"
      ],
      "metadata": {
        "colab": {
          "base_uri": "https://localhost:8080/"
        },
        "id": "fNREnGINshT8",
        "outputId": "d2a0a5e2-15b0-426c-901c-a75810e092dd"
      },
      "execution_count": 6,
      "outputs": [
        {
          "output_type": "execute_result",
          "data": {
            "text/plain": [
              "[1, 2, 3, 4, 5, 5]"
            ]
          },
          "metadata": {},
          "execution_count": 6
        }
      ]
    }
  ]
}